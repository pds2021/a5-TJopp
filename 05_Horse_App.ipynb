{
  "nbformat": 4,
  "nbformat_minor": 0,
  "metadata": {
    "colab": {
      "name": "05_Horse_App.ipynb",
      "provenance": [],
      "collapsed_sections": [],
      "authorship_tag": "ABX9TyMi90/qQCoJTSBUHUtnWRbU",
      "include_colab_link": true
    },
    "kernelspec": {
      "name": "python3",
      "display_name": "Python 3"
    }
  },
  "cells": [
    {
      "cell_type": "markdown",
      "metadata": {
        "id": "view-in-github",
        "colab_type": "text"
      },
      "source": [
        "<a href=\"https://colab.research.google.com/github/pds2021/a5-TJopp/blob/assignment_5/05_Horse_App.ipynb\" target=\"_parent\"><img src=\"https://colab.research.google.com/assets/colab-badge.svg\" alt=\"Open In Colab\"/></a>"
      ]
    },
    {
      "cell_type": "markdown",
      "metadata": {
        "id": "v1mPP-JFpPa1"
      },
      "source": [
        "# App - Horse Classifier\r\n",
        "Imagine you are walking with your girlfriend or wife who used to be a passionate horsewoman, and suddenly you are standing in front of a paddock. She says to you: \"Oh, that's a beautiful horse. A real thoroughbred.\" \r\n",
        "But you have no idea what she is talking about and you want to inspire her and show her the latest technical fancy gadgets that this can also be found out by image classification.\r\n",
        "\r\n",
        "Then you've come to the right place. Take a photo of the potential graceful thoroughbred and __click \"Upload\" to classify it__.\r\n",
        "\r\n",
        "(Important information: This app can only distinguish between the following three horse types: __warmbloods, heavy horses and thoroughbreds__. Further differentiations regarding the exact name of the respective horse are not made.If there is a cow or simply no horse in the picture, this cannot be recognised.)"
      ]
    },
    {
      "cell_type": "code",
      "metadata": {
        "id": "b7_GDfXEpLka"
      },
      "source": [
        "from fastai.vision.all import *\r\n",
        "from fastai.vision.widgets import *"
      ],
      "execution_count": null,
      "outputs": []
    },
    {
      "cell_type": "code",
      "metadata": {
        "id": "DfYkYpHipZpw"
      },
      "source": [
        "download_url('https://github.com/pds2021/a5-TJopp/releases/download/models/Horse_Detector.pkl', 'Horse_Detector.pkl')\r\n",
        "learn_inf = load_learner('Horse_Classifier.pkl', cpu=True)\r\n",
        "btn_upload = widgets.FileUpload()\r\n",
        "btn_run = widgets.Button(description='Classify')\r\n",
        "out_pl = widgets.Output()\r\n",
        "lbl_pred = widgets.Label()\r\n",
        "\r\n",
        "def on_click_classify(change):\r\n",
        "    img = PILImage.create(btn_upload.data[-1])\r\n",
        "    out_pl.clear_output()\r\n",
        "    with out_pl: display(img.to_thumb(512,512))\r\n",
        "    pred,pred_idx,probs = learn_inf.predict(img)\r\n",
        "    lbl_pred.value = f'Prediction: {pred}; Probability: {probs[pred_idx]:.04f}'\r\n",
        "\r\n",
        "btn_run.on_click(on_click_classify)\r\n",
        "VBox([widgets.Label('Select your horse!'), \r\n",
        "      btn_upload, btn_run, out_pl, lbl_pred])"
      ],
      "execution_count": null,
      "outputs": []
    }
  ]
}